{
 "cells": [
  {
   "cell_type": "code",
   "execution_count": 26,
   "id": "f7063487",
   "metadata": {},
   "outputs": [],
   "source": [
    "import pandas as pd\n",
    "import numpy as np\n",
    "import glob"
   ]
  },
  {
   "cell_type": "code",
   "execution_count": 27,
   "id": "7dfac3ce",
   "metadata": {},
   "outputs": [
    {
     "name": "stdout",
     "output_type": "stream",
     "text": [
      "number of files =  65\n",
      "output\\minus2_B40_Bag100_101_hxfb101ms_20240903T1544_SRResnet__segmented_.xlsx\n"
     ]
    }
   ],
   "source": [
    "files = glob.glob('output/**.xlsx')\n",
    "print ('number of files = ',len(files))\n",
    "print(files[0])"
   ]
  },
  {
   "cell_type": "code",
   "execution_count": 28,
   "id": "4bb4a795",
   "metadata": {},
   "outputs": [],
   "source": [
    "# List to store individual DataFrames\n",
    "dataframes = []\n",
    "# Loop through each file and read into a DataFrame\n",
    "for file in files:\n",
    "    df = pd.read_excel(file)  # Read each file\n",
    "    df = df.drop(columns=['Unnamed: 0'])\n",
    "    dataframes.append(df)     # Append to list\n",
    "\n",
    "# Concatenate all DataFrames into one\n",
    "merged_df = pd.concat(dataframes, ignore_index=True)\n",
    "\n",
    "# Save the merged DataFrame to a new Excel file\n",
    "merged_df.to_excel(\"merged_output.xlsx\", index=False)"
   ]
  },
  {
   "cell_type": "code",
   "execution_count": 29,
   "id": "e31d3ec5",
   "metadata": {},
   "outputs": [
    {
     "data": {
      "text/plain": [
       "Index(['name', 'number_of_regions', 'starting_layer', 'ending_layer', 'depth',\n",
       "       'sample_volume', 'porosity', 'open_pores', 'cuted_pores',\n",
       "       'isolated_pores', 'euler_density', 'SSA', 'MIL_x', 'MIL_y', 'MIL_z',\n",
       "       'Perm_x', 'Perm_y', 'Perm_z', 'Tort_x', 'Tort_y', 'Tort_z',\n",
       "       'sph_ice_cluster', 'num_pores', 'num_throats', 'coordination_number',\n",
       "       'avg_pore_volume', 'avg_pore_diameter', 'avg_throat_diameter',\n",
       "       'avg_throat_length', 'max_connections', 'median_connections',\n",
       "       'num_cluster', 'max_cluster_size', 'avg_cluster_size'],\n",
       "      dtype='object')"
      ]
     },
     "execution_count": 29,
     "metadata": {},
     "output_type": "execute_result"
    }
   ],
   "source": [
    "df = pd.read_excel(\"merged_output.xlsx\")\n",
    "df.columns"
   ]
  },
  {
   "cell_type": "code",
   "execution_count": 30,
   "id": "74928e9f",
   "metadata": {},
   "outputs": [],
   "source": [
    "for i in df['depth'].unique():\n",
    "    core_length = 1\n",
    "    n_samples = len(df[df['depth']==i])\n",
    "    intervals = round(core_length/n_samples,4)\n",
    "    df.loc[df['depth'] == i, 'new_depth'] =(np.array([(j*intervals)+i for j in range(n_samples)])) \n",
    "    "
   ]
  },
  {
   "cell_type": "code",
   "execution_count": null,
   "id": "49de6838",
   "metadata": {},
   "outputs": [],
   "source": []
  },
  {
   "cell_type": "code",
   "execution_count": 31,
   "id": "b8f8fdf6",
   "metadata": {},
   "outputs": [],
   "source": [
    "# Save the merged DataFrame to a new Excel file\n",
    "df.to_excel(\"minus_2.xlsx\", index=False)"
   ]
  },
  {
   "cell_type": "code",
   "execution_count": null,
   "id": "119b0d04",
   "metadata": {},
   "outputs": [],
   "source": []
  }
 ],
 "metadata": {
  "kernelspec": {
   "display_name": "Python 3 (ipykernel)",
   "language": "python",
   "name": "python3"
  },
  "language_info": {
   "codemirror_mode": {
    "name": "ipython",
    "version": 3
   },
   "file_extension": ".py",
   "mimetype": "text/x-python",
   "name": "python",
   "nbconvert_exporter": "python",
   "pygments_lexer": "ipython3",
   "version": "3.8.15"
  }
 },
 "nbformat": 4,
 "nbformat_minor": 5
}
